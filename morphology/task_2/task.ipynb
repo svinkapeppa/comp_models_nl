{
 "cells": [
  {
   "cell_type": "markdown",
   "metadata": {},
   "source": [
    "# Морфология"
   ]
  },
  {
   "cell_type": "code",
   "execution_count": 1,
   "metadata": {},
   "outputs": [],
   "source": [
    "import io\n",
    "import re\n",
    "\n",
    "from string import punctuation\n",
    "from Levenshtein import distance\n",
    "\n",
    "import matplotlib.pyplot as plt\n",
    "\n",
    "%matplotlib inline"
   ]
  },
  {
   "cell_type": "code",
   "execution_count": 2,
   "metadata": {},
   "outputs": [],
   "source": [
    "# Combine 'War and Peace' with full text of 'Anna Karenina', because I want to have more words/trigrams\n",
    "with io.open('data/ak.txt', 'r') as text_file:\n",
    "    ak = text_file.read()\n",
    "\n",
    "with io.open('data/wp.txt', 'r') as text_file:\n",
    "    wp = text_file.read()\n",
    "\n",
    "text = ak + ' ' + wp"
   ]
  },
  {
   "cell_type": "code",
   "execution_count": 3,
   "metadata": {},
   "outputs": [],
   "source": [
    "words = set(re.sub('[^а-яА-Я]', ' ', text).split())\n",
    "words = set([word.lower() for word in words])"
   ]
  },
  {
   "cell_type": "markdown",
   "metadata": {},
   "source": [
    "### Триграммы\n",
    "Для начала получим словарь вида (триграмма: её количество в тексте), не забывая о начале и конце слова.\n",
    "\n",
    "Далее можно построить гистограмму на количество вхождений триграмм, и посмотреть самые частые и какая частота у каких-нибудь заведомо странных, например: 'чгк', 'шкя' и подобные. Из полученных данных придумать эвристику, как считать слово с опечаткой. Проверить эвристику по словарю."
   ]
  },
  {
   "cell_type": "code",
   "execution_count": 4,
   "metadata": {},
   "outputs": [],
   "source": [
    "def corpus_trigrams(words):\n",
    "    \"\"\"\n",
    "        Returns trigrams count dictionary\n",
    "    \"\"\"\n",
    "    trigrams = {}\n",
    "\n",
    "    for word in words:\n",
    "        tmp = '##' + word + '##'\n",
    "        for i in range(len(tmp) - 2):\n",
    "            trigram = tmp[i: i + 3]\n",
    "            if trigram in trigrams:\n",
    "                trigrams[trigram] += 1\n",
    "            else:\n",
    "                trigrams[trigram] = 1\n",
    "\n",
    "    return trigrams"
   ]
  },
  {
   "cell_type": "code",
   "execution_count": 5,
   "metadata": {},
   "outputs": [],
   "source": [
    "trigrams = corpus_trigrams(words)"
   ]
  },
  {
   "cell_type": "code",
   "execution_count": 6,
   "metadata": {},
   "outputs": [
    {
     "data": {
      "image/png": "[encoded data removed]",
      "text/plain": [
       "<Figure size 1080x720 with 1 Axes>"
      ]
     },
     "metadata": {
      "needs_background": "light"
     },
     "output_type": "display_data"
    }
   ],
   "source": [
    "histogram = {}\n",
    "\n",
    "for key, value in trigrams.items():\n",
    "    if value in histogram:\n",
    "        histogram[value] += 1\n",
    "    else:\n",
    "        histogram[value] = 1\n",
    "\n",
    "plt.figure(figsize=(15, 10))\n",
    "plt.hist(histogram.values(), bins=100)\n",
    "plt.show()"
   ]
  },
  {
   "cell_type": "code",
   "execution_count": 7,
   "metadata": {},
   "outputs": [
    {
     "data": {
      "text/plain": [
       "[(1, 1128),\n",
       " (2, 610),\n",
       " (3, 435),\n",
       " (4, 352),\n",
       " (5, 293),\n",
       " (6, 234),\n",
       " (7, 205),\n",
       " (8, 176),\n",
       " (9, 164),\n",
       " (10, 137)]"
      ]
     },
     "execution_count": 7,
     "metadata": {},
     "output_type": "execute_result"
    }
   ],
   "source": [
    "sorted(histogram.items(), key=lambda x: -x[1])[:10]"
   ]
  },
  {
   "cell_type": "code",
   "execution_count": 8,
   "metadata": {},
   "outputs": [],
   "source": [
    "# Looking on the results above, 7 seems as a normal threshold\n",
    "THRESHOLD = 7"
   ]
  },
  {
   "cell_type": "code",
   "execution_count": 9,
   "metadata": {},
   "outputs": [],
   "source": [
    "def is_error(word, trigrams, threshold=THRESHOLD, max_misses=2):\n",
    "    \"\"\"\n",
    "        Returns True, if the word has a mistake\n",
    "    \"\"\"\n",
    "    # Short words are usually OK\n",
    "    if len(word) < 3:\n",
    "        return False\n",
    "\n",
    "    # Allow some variability\n",
    "    misses = 0\n",
    "    tmp = '##' + word.lower() + '##'\n",
    "\n",
    "    for i in range(len(tmp) - 3):\n",
    "        if misses >= max_misses:\n",
    "            return True\n",
    "\n",
    "        trigram = tmp[i: i + 3]\n",
    "        if trigram not in trigrams:\n",
    "            misses += 1\n",
    "            continue\n",
    "\n",
    "        if trigrams[trigram] < threshold:\n",
    "            misses += 1\n",
    "\n",
    "    return misses >= max_misses"
   ]
  },
  {
   "cell_type": "code",
   "execution_count": 10,
   "metadata": {},
   "outputs": [
    {
     "data": {
      "text/plain": [
       "False"
      ]
     },
     "execution_count": 10,
     "metadata": {},
     "output_type": "execute_result"
    }
   ],
   "source": [
    "is_error('кот', trigrams)"
   ]
  },
  {
   "cell_type": "code",
   "execution_count": 11,
   "metadata": {},
   "outputs": [
    {
     "data": {
      "text/plain": [
       "True"
      ]
     },
     "execution_count": 11,
     "metadata": {},
     "output_type": "execute_result"
    }
   ],
   "source": [
    "is_error('ыыы', trigrams)"
   ]
  },
  {
   "cell_type": "markdown",
   "metadata": {},
   "source": [
    "### Бор\n",
    "\n",
    "С помощью бора можно реализовать эффективный алгоритм исправления опечаток."
   ]
  },
  {
   "cell_type": "code",
   "execution_count": 12,
   "metadata": {},
   "outputs": [],
   "source": [
    "class Node:\n",
    "    def __init__(self, char='#'):\n",
    "        self.char = char\n",
    "        self.children = []\n",
    "        self.is_finished = False\n",
    "\n",
    "\n",
    "class Trie:\n",
    "    def __init__(self, threshold=3):\n",
    "        self.root = Node()\n",
    "        self.threshold = threshold\n",
    "\n",
    "    def add(self, word):\n",
    "        \"\"\"\n",
    "            Adds word to trie\n",
    "        \"\"\"\n",
    "        node = self.root\n",
    "\n",
    "        for char in word:\n",
    "            is_found = False\n",
    "\n",
    "            for child in node.children:\n",
    "                if child.char == char:\n",
    "                    node = child\n",
    "                    is_found = True\n",
    "                    break\n",
    "\n",
    "            if not is_found:\n",
    "                node.children.append(Node(char))\n",
    "                node = node.children[-1]\n",
    "\n",
    "        node.is_finished = True\n",
    "\n",
    "    def build(self, words):\n",
    "        \"\"\"\n",
    "            Builds a trie\n",
    "        \"\"\"\n",
    "        for word in words:\n",
    "            self.add(word)\n",
    "\n",
    "    def traverse(self, word):\n",
    "        \"\"\"\n",
    "            Traverses the trie and returns all words,\n",
    "            that are not too far from the given word\n",
    "        \"\"\"\n",
    "        candidates = []        \n",
    "        queue, level = [(self.root, '', 0)], 0\n",
    "\n",
    "        while True:\n",
    "            tmp = []\n",
    "\n",
    "            for node, seq, misses in queue:\n",
    "                for child in node.children:\n",
    "                    if level >= len(word):\n",
    "                        if child.is_finished:\n",
    "                            if misses + 1 < self.threshold:\n",
    "                                candidates.append((seq + child.char, misses + 1))\n",
    "                        if misses + 1 < self.threshold:\n",
    "                            tmp.append((child, seq + child.char, misses + 1))\n",
    "                    else:\n",
    "                        if child.is_finished:\n",
    "                            distance = misses + len(word) - len(seq)\n",
    "                            if child.char == word[level]:\n",
    "                                distance -= 1\n",
    "                            if distance < self.threshold:\n",
    "                                candidates.append((seq + child.char, distance))\n",
    "\n",
    "                        distance = misses\n",
    "                        if child.char != word[level]:\n",
    "                            distance += 1\n",
    "                        if distance < self.threshold:\n",
    "                            tmp.append((child, seq + child.char, distance))\n",
    "\n",
    "            if len(tmp) == 0:\n",
    "                break\n",
    "\n",
    "            level += 1\n",
    "            queue = tmp\n",
    "\n",
    "        # Wasn't able to find suitable words\n",
    "        if len(candidates) == 0:\n",
    "            return [word]\n",
    "\n",
    "        min_distance = min([candidate[1] for candidate in candidates])\n",
    "\n",
    "        return [candidate[0] for candidate in candidates if candidate[1] == min_distance]"
   ]
  },
  {
   "cell_type": "code",
   "execution_count": 13,
   "metadata": {},
   "outputs": [],
   "source": [
    "def correct_word(word, dictionary):\n",
    "    \"\"\"\n",
    "        Corrects word using trie approach\n",
    "    \"\"\"\n",
    "    trie = Trie()\n",
    "    trie.build(dictionary)\n",
    "\n",
    "    candidates = trie.traverse(word.lower())\n",
    "\n",
    "    return '<{}>: [{}]'.format(word, '|'.join(candidates))"
   ]
  },
  {
   "cell_type": "code",
   "execution_count": 14,
   "metadata": {},
   "outputs": [
    {
     "data": {
      "text/plain": [
       "'<коровя>: [коров|корове|корову|корова|коровы|короля]'"
      ]
     },
     "execution_count": 14,
     "metadata": {},
     "output_type": "execute_result"
    }
   ],
   "source": [
    "correct_word('коровя', words)"
   ]
  },
  {
   "cell_type": "code",
   "execution_count": 15,
   "metadata": {},
   "outputs": [],
   "source": [
    "def correct_word_naive(word, dictionary):\n",
    "    \"\"\"\n",
    "        Corrects word using naive approach (search most similar word in the dicitionary)\n",
    "    \"\"\"\n",
    "    distances = [(candidate, distance(word.lower(), candidate)) for candidate in dictionary]\n",
    "    min_distance = sorted(distances, key=lambda x: x[1])[0][1]\n",
    "\n",
    "    candidates = [word[0] for word in distances if word[1] == min_distance]\n",
    "\n",
    "    return '<{}>: [{}]'.format(word, '|'.join(candidates))"
   ]
  },
  {
   "cell_type": "code",
   "execution_count": 16,
   "metadata": {},
   "outputs": [
    {
     "data": {
      "text/plain": [
       "'<коровя>: [коров|корове|короля|корову|корова|коровы]'"
      ]
     },
     "execution_count": 16,
     "metadata": {},
     "output_type": "execute_result"
    }
   ],
   "source": [
    "correct_word_naive('коровя', words)"
   ]
  },
  {
   "cell_type": "markdown",
   "metadata": {},
   "source": [
    "### Вместе\n",
    "\n",
    "Теперь соберем поиск и исправление опечаток в одну систему, которая будет принимать текст и править его."
   ]
  },
  {
   "cell_type": "code",
   "execution_count": 17,
   "metadata": {},
   "outputs": [],
   "source": [
    "def correct_mistakes(text, dictionary):\n",
    "    \"\"\"\n",
    "        Corrects words in text using trie approach\n",
    "    \"\"\"\n",
    "    clean = []\n",
    "\n",
    "    for word in text.split():\n",
    "        # Problems with bad parsing\n",
    "        if len(word) > 1 and word[-1] in punctuation:\n",
    "            word, punct = word[:-1], word[-1]\n",
    "        else:\n",
    "            word, punct = word, None\n",
    "\n",
    "        if not is_error(word, trigrams):\n",
    "            if punct:\n",
    "                word += punct\n",
    "            clean.append(word)\n",
    "            continue\n",
    "\n",
    "        correction = correct_word(word, dictionary)\n",
    "        if punct:\n",
    "            correction += punct\n",
    "        clean.append(correction)\n",
    "\n",
    "    return ' '.join(clean)"
   ]
  },
  {
   "cell_type": "code",
   "execution_count": 18,
   "metadata": {},
   "outputs": [],
   "source": [
    "def correct_mistakes_naive(text, dictionary):\n",
    "    \"\"\"\n",
    "        Corrects words in text using naive approach\n",
    "    \"\"\"\n",
    "    clean = []\n",
    "\n",
    "    for word in text.split():\n",
    "        # Problems with bad parsing\n",
    "        if len(word) > 1 and word[-1] in punctuation:\n",
    "            word, punct = word[:-1], word[-1]\n",
    "        else:\n",
    "            word, punct = word, None\n",
    "\n",
    "        if not is_error(word, trigrams):\n",
    "            if punct:\n",
    "                word += punct\n",
    "            clean.append(word)\n",
    "            continue\n",
    "\n",
    "        correction = correct_word_naive(word, dictionary)\n",
    "        if punct:\n",
    "            correction += punct\n",
    "        clean.append(correction)\n",
    "\n",
    "    return ' '.join(clean)"
   ]
  },
  {
   "cell_type": "code",
   "execution_count": 19,
   "metadata": {},
   "outputs": [],
   "source": [
    "with open('data/text.txt', 'r') as file:\n",
    "    text = file.read().replace('\\n', ' ')\n",
    "\n",
    "# Generate some mistakes\n",
    "text = text.replace('ов', 'св')"
   ]
  },
  {
   "cell_type": "code",
   "execution_count": 20,
   "metadata": {},
   "outputs": [
    {
     "name": "stdout",
     "output_type": "stream",
     "text": [
      "CPU times: user 25.4 s, sys: 441 ms, total: 25.8 s\n",
      "Wall time: 27.2 s\n"
     ]
    },
    {
     "data": {
      "text/plain": [
       "'Тверской бульвар был почти таким же, как и два года назад, когда я последний раз его видел – опять был февраль, сугробы и мгла, странным образом проникавшая даже в дневной свет. На скамейках сидели те же неподвижные старухи; вверху, над черной сеткой ветвей, серело то же небо, похожее на <ветхий>: [ветки|ветви|ветхом|веткой|ветвей|ведший|летний], до земли <прсвисший>: [прсвисший] под тяжестью спящего Бога матрац. Была, впрочем, и разница. Этой зимой по аллеям мела <какая-то>: [какая-то] ссвершенно степная метель, и, попадись мне навстречу пара <волксв>: [волков], я ссвершенно не удивился бы. <Бронзсвый>: [бронзовые|бронзовым] Пушкин казался чуть печальней, чем обычно – оттого, наверно, что на груди у него висел красный фартук с <надписью>: [надпись]: <«Да>: [ада] здравствует первая <годсвщина>: [годовщина] <Революции»>: [революции]. Но никакого желания иронизирсвать по <псводу>: [поводу] того, что <здравствсвать>: [здравствсвать] предлагалось <годсвщине>: [годовщина], а революция была написана через <«ять»>: [зять|пять|мять|зятья|пятью], у меня не было – за последнее время я имел много возможностей разглядеть демонический лик, который прятался за всеми этими короткими нелепицами на красном. Уже начинало темнеть. Страстной монастырь был еле виден за снежной мглой. На площади перед ним стояли два грузсвика с высокими кузсвами, обтянутыми <ярко-алой>: [ярко-алой] материей; вокруг колыхалась толпа, и долетал голос оратора – я почти ничего не разбирал, но смысл был ясен по интонации и пулеметному <«р-р»>: [«р-р»] в <слсвах>: [словах] <«пролетариат»>: [«пролетариат»] и <«террор»>: [«террор»]. Мимо меня прошли два пьяных солдата, за плечами у которых качались <винтсвки>: [винтсвки] с <примкнутыми>: [проткнутыми] штыками. Солдаты торопились на площадь, но один из них, остансвив на мне наглый взгляд, замедлил шаг и открыл рот, <слсвно>: [словно|славно] собираясь <что-то>: [что-то] сказать; к счастью – и его, и моему – второй дернул его за рукав, и они ушли. Я <псвернулся>: [повернулся] и быстро пошел вниз по бульвару, гадая, отчего мой вид вызывает постоянные подозрения у всей этой сволочи. Конечно, одет я был безобразно и безвкусно – на мне было грязное английское пальто с широким хлястиком, военная – разумеется, без кокарды – шапка вроде той, что носил Александр Второй, и офицерские сапоги. Но дело было, видимо, не только в одежде. Вокруг было немало людей, выглядящих куда более нелепо. К примеру, на Тверской я видел ссвершенно безумного господина в золотых очках, который, держа в руках икону, шел к черному безлюдному Кремлю – но никто не обращал на него внимания. Я же постоянно <лсвил>: [ловил] на себе косые взгляды и каждый раз вспоминал, что у меня нет ни денег, ни <документсв>: [документсв]. Вчера в привокзальном клозете я нацепил было на грудь красный бант, но снял его сразу же после того, как увидел свое отражение в треснутом зеркале; с бантом я выглядел не только глупо, но и вдвойне подозрительно. Впрочем, возможно, что никто на самом деле не задерживал на мне взгляда дольше, чем на других, а виной всему были взвинченные нервы и ожидание ареста. Я не испытывал страха смерти. Быть может, думал я, она уже произошла, и этот ледяной бульвар, по которому я иду, не что иное, как <преддверие>: [преддверие] мира теней. Мне, кстати, давно уже приходило в <голсву>: [голову], что русским душам суждено пересекать <Стикс>: [стук|стих|стуки|стиха|стихи|стихе|стиве|стива|стивы|стиву|стиле|этики], когда тот замерзает, и монету получает не <паромщик>: [паромщик], а некто в сером, дающий напрокат пару <коньксв>: [коньков] <(разумеется>: [(разумеется], та же <духсвная>: [духовная] <сущность)>: [сущность]. О, в каких подробностях увидел я вдруг эту сцену! Граф Толстой в черном трико, широко взмахивая руками, катил по льду к далекому горизонту; его движения были медленны и торжественны, но двигался он быстро, так, что <трехглавый>: [трехглавый] пес, <мчавшийся>: [мчавшийся] за ним с беззвучным лаем, никак не мог его догнать. <Унылый>: [унылый] <красно-желтый>: [красно-желтый] луч неземного заката <дсвершал>: [совершал] картину. Я тихо засмеялся, и в этот самый момент <чья-то>: [чья-то] ладонь хлопнула меня по плечу. Я шагнул в сторону, резко обернулся, <лсвя>: [ловя] в кармане рукоять нагана, и с изумлением увидел перед собой Григория фон Эрнена – челсвека, которого я знал с детских лет. Но боже мой, в каком виде! Он был с <голсвы>: [головы] до ног в черной коже, на боку у него болталась коробка с <маузером>: [мастером], а в руке был <какой-то>: [какой-то] несуразный акушерский <саквояж>: [саквояж].'"
      ]
     },
     "execution_count": 20,
     "metadata": {},
     "output_type": "execute_result"
    }
   ],
   "source": [
    "%%time\n",
    "correct_mistakes(text, words)"
   ]
  },
  {
   "cell_type": "code",
   "execution_count": 21,
   "metadata": {},
   "outputs": [
    {
     "name": "stdout",
     "output_type": "stream",
     "text": [
      "CPU times: user 2.07 s, sys: 28.8 ms, total: 2.1 s\n",
      "Wall time: 2.19 s\n"
     ]
    },
    {
     "data": {
      "text/plain": [
       "'Тверской бульвар был почти таким же, как и два года назад, когда я последний раз его видел – опять был февраль, сугробы и мгла, странным образом проникавшая даже в дневной свет. На скамейках сидели те же неподвижные старухи; вверху, над черной сеткой ветвей, серело то же небо, похожее на <ветхий>: [летний|ветхом|веткой|ветки|ветвей|ведший|верхний|ветви], до земли <прсвисший>: [привыкший|проживший|привезший] под тяжестью спящего Бога матрац. Была, впрочем, и разница. Этой зимой по аллеям мела <какая-то>: [какая] ссвершенно степная метель, и, попадись мне навстречу пара <волксв>: [волков], я ссвершенно не удивился бы. <Бронзсвый>: [бронзовые|бронзовым] Пушкин казался чуть печальней, чем обычно – оттого, наверно, что на груди у него висел красный фартук с <надписью>: [надпись]: <«Да>: [да|ада] здравствует первая <годсвщина>: [годовщина] <Революции»>: [революции]. Но никакого желания иронизирсвать по <псводу>: [поводу] того, что <здравствсвать>: [здравствуйте|здравствует] предлагалось <годсвщине>: [годовщина], а революция была написана через <«ять»>: [пятью|зять|мять|пять|зятья], у меня не было – за последнее время я имел много возможностей разглядеть демонический лик, который прятался за всеми этими короткими нелепицами на красном. Уже начинало темнеть. Страстной монастырь был еле виден за снежной мглой. На площади перед ним стояли два грузсвика с высокими кузсвами, обтянутыми <ярко-алой>: [яркой|прошлой|дрожало|трогало|школой|яркого|пропало|бросало] материей; вокруг колыхалась толпа, и долетал голос оратора – я почти ничего не разбирал, но смысл был ясен по интонации и пулеметному <«р-р»>: [рррр|брр|урра|прру|орарь] в <слсвах>: [словах] <«пролетариат»>: [пролетали|пролетит] и <«террор»>: [тенор|террасе|террасы|террасу|тенора]. Мимо меня прошли два пьяных солдата, за плечами у которых качались <винтсвки>: [винтик|виски|выставки] с <примкнутыми>: [проткнутыми] штыками. Солдаты торопились на площадь, но один из них, остансвив на мне наглый взгляд, замедлил шаг и открыл рот, <слсвно>: [словно|славно] собираясь <что-то>: [часто|тесто|тонко|просто|стоять|ото|этот|стоить|стойте|стоят|чорту|тост|чтобы|джотто|стояло|стоило|что|чисто|чорт|точно|этого|чорта|отойти|тошно|тосты|тот|туто|стоит|чтопи|чортом|топко|чтоб|стоите|того] сказать; к счастью – и его, и моему – второй дернул его за рукав, и они ушли. Я <псвернулся>: [повернулся|свернулся] и быстро пошел вниз по бульвару, гадая, отчего мой вид вызывает постоянные подозрения у всей этой сволочи. Конечно, одет я был безобразно и безвкусно – на мне было грязное английское пальто с широким хлястиком, военная – разумеется, без кокарды – шапка вроде той, что носил Александр Второй, и офицерские сапоги. Но дело было, видимо, не только в одежде. Вокруг было немало людей, выглядящих куда более нелепо. К примеру, на Тверской я видел ссвершенно безумного господина в золотых очках, который, держа в руках икону, шел к черному безлюдному Кремлю – но никто не обращал на него внимания. Я же постоянно <лсвил>: [ловил] на себе косые взгляды и каждый раз вспоминал, что у меня нет ни денег, ни <документсв>: [конкурентов]. Вчера в привокзальном клозете я нацепил было на грудь красный бант, но снял его сразу же после того, как увидел свое отражение в треснутом зеркале; с бантом я выглядел не только глупо, но и вдвойне подозрительно. Впрочем, возможно, что никто на самом деле не задерживал на мне взгляда дольше, чем на других, а виной всему были взвинченные нервы и ожидание ареста. Я не испытывал страха смерти. Быть может, думал я, она уже произошла, и этот ледяной бульвар, по которому я иду, не что иное, как <преддверие>: [недоверие] мира теней. Мне, кстати, давно уже приходило в <голсву>: [голову], что русским душам суждено пересекать <Стикс>: [стих|стива|стиха|стирку|стирка|стиле|стивы|стиву|стук|стихи|стуки|этики|стиве|стихе], когда тот замерзает, и монету получает не <паромщик>: [паром|помещик|часовщик|парами|скромник|паровика], а некто в сером, дающий напрокат пару <коньксв>: [коньков] <(разумеется>: [разумеется], та же <духсвная>: [духовная] <сущность)>: [сущность]. О, в каких подробностях увидел я вдруг эту сцену! Граф Толстой в черном трико, широко взмахивая руками, катил по льду к далекому горизонту; его движения были медленны и торжественны, но двигался он быстро, так, что <трехглавый>: [стремглав] пес, <мчавшийся>: [начавшийся] за ним с беззвучным лаем, никак не мог его догнать. <Унылый>: [унылый] <красно-желтый>: [краснотой] луч неземного заката <дсвершал>: [совершал] картину. Я тихо засмеялся, и в этот самый момент <чья-то>: [часто|свято|взято|что|чисто|чьего|чья] ладонь хлопнула меня по плечу. Я шагнул в сторону, резко обернулся, <лсвя>: [ловя] в кармане рукоять нагана, и с изумлением увидел перед собой Григория фон Эрнена – челсвека, которого я знал с детских лет. Но боже мой, в каком виде! Он был с <голсвы>: [головы] до ног в черной коже, на боку у него болталась коробка с <маузером>: [мастером|манером], а в руке был <какой-то>: [какого|какой|каково] несуразный акушерский <саквояж>: [своя|сквозь].'"
      ]
     },
     "execution_count": 21,
     "metadata": {},
     "output_type": "execute_result"
    }
   ],
   "source": [
    "%%time\n",
    "correct_mistakes_naive(text, words)"
   ]
  },
  {
   "cell_type": "code",
   "execution_count": null,
   "metadata": {},
   "outputs": [],
   "source": []
  }
 ],
 "metadata": {
  "kernelspec": {
   "display_name": "Python 2",
   "language": "python",
   "name": "python2"
  },
  "language_info": {
   "codemirror_mode": {
    "name": "ipython",
    "version": 3
   },
   "file_extension": ".py",
   "mimetype": "text/x-python",
   "name": "python",
   "nbconvert_exporter": "python",
   "pygments_lexer": "ipython3",
   "version": "3.7.3"
  }
 },
 "nbformat": 4,
 "nbformat_minor": 2
}
